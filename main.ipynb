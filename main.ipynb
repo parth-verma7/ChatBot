{
 "cells": [
  {
   "cell_type": "code",
   "execution_count": 20,
   "metadata": {},
   "outputs": [],
   "source": [
    "import pandas as pd\n",
    "import numpy as np\n",
    "import json\n",
    "import random\n",
    "import numpy as np\n",
    "import nltk\n",
    "import pickle\n",
    "from nltk.stem import WordNetLemmatizer\n",
    "lemmatizer=WordNetLemmatizer()\n",
    "import tensorflow as tf\n",
    "import keras\n",
    "from keras.models import Sequential\n",
    "from keras.layers import Dense,Activation,Dropout\n",
    "from keras.optimizers import SGD\n",
    "from keras.models import load_model\n",
    "import sqlalchemy\n",
    "import datetime\n",
    "import spacy\n",
    "import warnings\n",
    "warnings.filterwarnings('ignore')"
   ]
  },
  {
   "cell_type": "code",
   "execution_count": 3,
   "metadata": {},
   "outputs": [],
   "source": [
    "intents=json.loads(open('online.json').read())\n",
    "nlp=spacy.load(\"en_core_web_sm\")"
   ]
  },
  {
   "cell_type": "code",
   "execution_count": 4,
   "metadata": {},
   "outputs": [],
   "source": [
    "words=[]\n",
    "classes=[]\n",
    "documents=[]\n",
    "ignore_letters=['?','!','.',',']\n",
    "words=pickle.load(open(\"words.pkl\",\"rb\"))\n",
    "classes=pickle.load(open(\"classes.pkl\",\"rb\"))"
   ]
  },
  {
   "cell_type": "code",
   "execution_count": 5,
   "metadata": {},
   "outputs": [
    {
     "name": "stderr",
     "output_type": "stream",
     "text": [
      "2023-02-07 22:34:33.003589: I tensorflow/core/platform/cpu_feature_guard.cc:193] This TensorFlow binary is optimized with oneAPI Deep Neural Network Library (oneDNN) to use the following CPU instructions in performance-critical operations:  AVX2 AVX512F AVX512_VNNI FMA\n",
      "To enable them in other operations, rebuild TensorFlow with the appropriate compiler flags.\n"
     ]
    }
   ],
   "source": [
    "model=load_model('online.h5')"
   ]
  },
  {
   "cell_type": "code",
   "execution_count": 6,
   "metadata": {},
   "outputs": [],
   "source": [
    "def clean_up_sentence(sentence):\n",
    "    sentence_words=nltk.word_tokenize(sentence)\n",
    "    sentence_words=[lemmatizer.lemmatize(word) for word in sentence_words]\n",
    "    return sentence_words\n",
    "\n",
    "def bag_of_words(sentence):\n",
    "    sentence_words=clean_up_sentence(sentence)\n",
    "    bag=[0]*len(words)\n",
    "    for w in sentence_words:\n",
    "        for i,word in enumerate(words):\n",
    "            if word==w:\n",
    "                bag[i]=1\n",
    "    return np.array(bag)\n",
    "\n",
    "def predict_class(sentence):\n",
    "    bow=bag_of_words(sentence)\n",
    "    # print(model.predict(np.array([bow])))\n",
    "    res=model.predict(np.array([bow]))[0]\n",
    "    ERROR_THRESHOLD=0.25\n",
    "    results=[[i,r] for i,r in enumerate(res) if r>ERROR_THRESHOLD]\n",
    "    results.sort(key=lambda x:x[1],reverse=True)\n",
    "    return_list=[]\n",
    "    for r in results:\n",
    "        return_list.append({'intent':classes[r[0]],'probability':str(r[1])})\n",
    "    return return_list\n",
    "def get_response(intents_list,intents_json):\n",
    "    tag=intents_list[0]['intent']\n",
    "    list_of_intents=intents_json['online']\n",
    "    for i in list_of_intents:\n",
    "        if i['tag']==tag:\n",
    "            result=random.choice(i['responses'])\n",
    "            break\n",
    "    return result\n"
   ]
  },
  {
   "cell_type": "code",
   "execution_count": 7,
   "metadata": {},
   "outputs": [],
   "source": [
    "mode=input(\"Enter mode: offline or online\")\n",
    "if((mode.lower())==\"offline\"):\n",
    "    mode=\"offline\"\n",
    "else:\n",
    "    mode=\"online\""
   ]
  },
  {
   "cell_type": "code",
   "execution_count": 8,
   "metadata": {},
   "outputs": [],
   "source": [
    "flight_booking_no=1\n",
    "flight_cancellation_no=0"
   ]
  },
  {
   "cell_type": "code",
   "execution_count": 9,
   "metadata": {},
   "outputs": [],
   "source": [
    "# pid=flight_booking_no\n",
    "# pName=\"\"\n",
    "# pPhone=\"\"\n",
    "# pEmail=\"\"\n",
    "# pSex=\"\"\n",
    "# pOrigin=\"\"\n",
    "# pDestiny=\"\"\n",
    "# pDate=\"\""
   ]
  },
  {
   "cell_type": "code",
   "execution_count": 10,
   "metadata": {},
   "outputs": [],
   "source": [
    "# if(mode==\"online\"):\n",
    "#     print(\"What would you like to do?\")\n",
    "#     print(\"1 : Book a Flight\")\n",
    "#     print(\"2 : Change a flight\")\n",
    "#     print(\"3 : Cancel a flight\")\n",
    "#     operation=\"\"\n",
    "#     while True:\n",
    "#         message=input(\"Enter what you want to do:\")\n",
    "#         ints=predict_class(message)\n",
    "#         res=get_response(ints,intents)\n",
    "#         s=ints[0]['intent']\n",
    "#         print(f'So you want to {s} the flight')\n",
    "#         print(\"If i understood correctly then enter 'y' else enter 'n' to re-enter your demand\")\n",
    "#         check=input(\"Please Enter 'y' or 'n':\")\n",
    "#         if(check==\"y\"):\n",
    "#             operation=s\n",
    "#             break\n",
    "#     print(\"I would like to ask u few things:\")\n",
    "#     if(operation==\"book\"):\n",
    "#         print(\"FLIGHT BOOKING DETAILS.. HURRAY!!\")\n",
    "#         pID=flight_booking_no\n",
    "#         flight_booking_no+=1\n",
    "#         pName=input(\"Enter your name:\")\n",
    "#         pPhone=input(\"Enter your phone number:\")\n",
    "#         pEmail=input(\"Enter your email address:\")\n",
    "#         pSex=input(\"Enter your Sex\")\n",
    "#         pOrigin=input(\"Enter your Origin\")\n",
    "#         pDestiny=input(\"Enter your Destiny\")\n",
    "#         pDate=input(datetime.date)\n",
    "#         # Database mein entry\n",
    "#     elif(operation==\"change\"):\n",
    "#         print(\"FLIGHT CHANGED DETAILS..It's Fine!!\")\n",
    "#         print(\"Would you like to change the date..?? If 'yes' then enter'y' otherwise enter 'n'\")\n",
    "#         check=input(\"Please Enter 'y' or 'n':\")\n",
    "#         if(check=='y'):\n",
    "#             pDate=input(datetime.date)\n",
    "#             print(f'So your new boarding date is {pDate}')\n",
    "#         print(\"Would you like to change the destination..??\")\n",
    "#         check=input(\"Please Enter 'y' if u want to change or 'n':\")\n",
    "#         if(check=='y'):\n",
    "#             pDestiny=input(\"Enter your new destination\")\n",
    "#             print(f'So your destination is {pDestiny}')\n",
    "#         print(\"Details Updated\")\n",
    "#     else:\n",
    "#         flight_cancellation_no+=1\n",
    "#         print(\"FLIGHT CANCELED DETAILS..It's OK!!\")\n",
    "#         pidd=input(\"Please give me your passenger id:\")\n",
    "#         pnamee=input(\"Enter your name:\")\n",
    "#         pemaill=input(\"Enter your email address:\")\n",
    "#         pphonee=input(\"Enter your phone number:\")\n",
    "#         print(\"Thank You, we are cancelling your flight..\")\n",
    "#         print(f'Flight cancelled for {pnamee} id: {pidd}')\n",
    "        "
   ]
  },
  {
   "cell_type": "code",
   "execution_count": 11,
   "metadata": {},
   "outputs": [],
   "source": [
    "# text=\"I would like to go from mathura to new delhi on 2003-12-04 and email is abc12@gmail.com\"\n",
    "# doc=nlp(text)\n",
    "# jagah=[]\n",
    "# for ent in doc.ents :\n",
    "#     print(ent.text,ent.label_)\n"
   ]
  },
  {
   "cell_type": "code",
   "execution_count": 12,
   "metadata": {},
   "outputs": [],
   "source": [
    "# jagah"
   ]
  },
  {
   "cell_type": "code",
   "execution_count": 13,
   "metadata": {},
   "outputs": [],
   "source": [
    "# ent.label_"
   ]
  },
  {
   "cell_type": "code",
   "execution_count": null,
   "metadata": {},
   "outputs": [],
   "source": []
  },
  {
   "cell_type": "code",
   "execution_count": 14,
   "metadata": {},
   "outputs": [],
   "source": [
    "places_code={\n",
    "    'New Delhi':1,\n",
    "    'Mathura':2,\n",
    "    'Kanpur':3,\n",
    "    'Varanasi':4,\n",
    "    'Allahabad':5,\n",
    "    'Jabalpur':6,\n",
    "    'Agra':7\n",
    "}"
   ]
  },
  {
   "cell_type": "code",
   "execution_count": 15,
   "metadata": {},
   "outputs": [],
   "source": [
    "intent_id={\n",
    "    'book':1,\n",
    "    'change':2,\n",
    "    'cancel':3\n",
    "}"
   ]
  },
  {
   "cell_type": "code",
   "execution_count": 16,
   "metadata": {},
   "outputs": [],
   "source": [
    "def process_chat_input(message):\n",
    "    global flight_booking_no\n",
    "    global flight_cancellation_no\n",
    "    places=[]\n",
    "    dates=[]\n",
    "    operation=\"\"\n",
    "    pid=flight_booking_no\n",
    "    pName=\"\"\n",
    "    pPhone=\"\"\n",
    "    pEmail=\"\"\n",
    "    pSex=\"\"\n",
    "    pOrigin=\"\"\n",
    "    pDestiny=\"\"\n",
    "    pBookingDate=\"\"\n",
    "    pDepartureDate=\"\" \n",
    "    doc=nlp(message)\n",
    "    for ent in doc.ents:\n",
    "        if(ent.label_==\"GPE\"):\n",
    "            places.append(ent.text)\n",
    "        if(ent.label_==\"DATE\"):\n",
    "            dates.append(ent.text)\n",
    "    ints=predict_class(message)\n",
    "    res=get_response(ints,intents)\n",
    "    s=ints[0]['intent']\n",
    "    print(f'So you want to {s} the flight having id {intent_id[s]}')\n",
    "    if(s==\"book\"):\n",
    "        flight_booking_no+=1\n",
    "        print(\"FLIGHT BOOKING DETAILS.. HURRAY!!\")\n",
    "        pID=flight_booking_no\n",
    "        flight_booking_no+=1\n",
    "        pName=input(\"Enter your name:\")\n",
    "        pPhone=input(\"Enter your phone number:\")\n",
    "        pEmail=input(\"Enter your email address:\")\n",
    "        pSex=input(\"Enter your Sex\")\n",
    "        if(len(places)==0):\n",
    "            pOrigin=input(\"Enter your Origin\")\n",
    "            pDestiny=input(\"Enter your Destiny\")\n",
    "        elif(len(places)==1):\n",
    "            pOrigin=input(\"Enter your Origin\")\n",
    "            pDestiny=places[0]\n",
    "        else:\n",
    "            pOrigin=places[0]\n",
    "            pDestiny=places[1]\n",
    "        pBookingDate=datetime.date.today().strftime(\"%d-%m-%Y\")\n",
    "        if(len(dates)==0):\n",
    "            pDepartureDate=input(datetime.date)\n",
    "        else:\n",
    "            pDepartureDate=dates[0]\n",
    "        \n",
    "        print(f'Your booking details are as follows:')\n",
    "        print(f'ID {pid}')\n",
    "        print(f'Name {pName}')    \n",
    "        print(f'Phone {pPhone}')\n",
    "        print(f'Email {pEmail}')\n",
    "        print(f'Sex {pSex}')\n",
    "        print(f'Origin {pOrigin} having code {places_code[pOrigin]}')\n",
    "        print(f'Destiny {pDestiny} having code {places_code[pDestiny]}')\n",
    "        print(f'BookingDate {pBookingDate}')\n",
    "        print(f'DepartureDate {pDepartureDate}')\n",
    "        \n",
    "    elif(s==\"change\"):\n",
    "        print(s)\n",
    "        print(\"FLIGHT CHANGED DETAILS..It's Fine!!\")\n",
    "        print(\"Would you like to change the date..?? If 'yes' then enter'y' otherwise enter 'n'\")\n",
    "        check=input(\"Please Enter 'y' or 'n':\")\n",
    "        if(check=='y'):\n",
    "            pDepartureDate=input(datetime.date)\n",
    "            print(f'So your new boarding date is {pDepartureDate}')\n",
    "        print(\"Would you like to change the origin..??\")\n",
    "        check=input(\"Please Enter 'y' if u want to change or 'n':\")\n",
    "        if(check=='y'):\n",
    "            pOrigin=input(\"Enter your new destination\")\n",
    "            print(f'So your destination is {pOrigin}')\n",
    "        print(\"Would you like to change the destination..??\")\n",
    "        check=input(\"Please Enter 'y' if u want to change or 'n':\")\n",
    "        if(check=='y'):\n",
    "            pDestiny=input(\"Enter your new destination\")\n",
    "            print(f'So your destination is {pDestiny}')\n",
    "        print(\"Details Updated\") \n",
    "        \n",
    "        print(f'Your booking details are as follows:')\n",
    "        print(f'ID {pid}')\n",
    "        print(f'Name {pName}')    \n",
    "        print(f'Phone {pPhone}')\n",
    "        print(f'Email {pEmail}')\n",
    "        print(f'Sex {pSex}')\n",
    "        print(f'Origin {pOrigin}')\n",
    "        print(f'Destiny {pDestiny} having id {places_code[pDestiny]}')\n",
    "        print(f'BookingDate {pBookingDate} having id {places_code[pBookingDate]}')\n",
    "        print(f'DepartureDate {pDepartureDate}')\n",
    "        \n",
    "    elif(s==\"cancel\"):\n",
    "        # print(s)\n",
    "        flight_cancellation_no+=1\n",
    "        print(\"FLIGHT CANCELLATION DETAILS..It's OK!!\")\n",
    "        pidd=input(\"Please give me your passenger id:\")\n",
    "        pnamee=input(\"Enter your name:\")\n",
    "        pemaill=input(\"Enter your email address:\")\n",
    "        pphonee=input(\"Enter your phone number:\")\n",
    "        print(\"Thank You, we are cancelling your flight..\")\n",
    "        print(f'Flight cancelled for {pnamee} id: {pidd}')\n",
    "        "
   ]
  },
  {
   "cell_type": "code",
   "execution_count": 19,
   "metadata": {},
   "outputs": [
    {
     "name": "stdout",
     "output_type": "stream",
     "text": [
      "1/1 [==============================] - 0s 21ms/step\n",
      "So you want to book the flight having id 1\n",
      "FLIGHT BOOKING DETAILS.. HURRAY!!\n",
      "Your booking details are as follows:\n",
      "ID 3\n",
      "Name d\n",
      "Phone d\n",
      "Email d\n",
      "Sex d\n",
      "Origin d\n",
      "Destiny d\n",
      "BookingDate 07-02-2023\n",
      "DepartureDate 12-12-2333\n"
     ]
    }
   ],
   "source": [
    "if mode.lower()==\"online\":\n",
    "    def run_online_chatbot():\n",
    "        while True:\n",
    "            user_input=input(\"What can I help u with..??\")\n",
    "            if user_input.lower()==\"exit\":\n",
    "                break\n",
    "            else:\n",
    "                process_chat_input(user_input)\n",
    "                check=input(\"Would you like to book another ticket? (y/n): \")\n",
    "                if(check.lower()==\"y\"):\n",
    "                    pass\n",
    "                else:\n",
    "                    break\n",
    "    run_online_chatbot()\n",
    "else:\n",
    "    def run_offline_chatbot():\n",
    "        pass\n",
    "        "
   ]
  },
  {
   "cell_type": "code",
   "execution_count": 24,
   "metadata": {},
   "outputs": [
    {
     "data": {
      "text/html": [
       "<div>\n",
       "<style scoped>\n",
       "    .dataframe tbody tr th:only-of-type {\n",
       "        vertical-align: middle;\n",
       "    }\n",
       "\n",
       "    .dataframe tbody tr th {\n",
       "        vertical-align: top;\n",
       "    }\n",
       "\n",
       "    .dataframe thead th {\n",
       "        text-align: right;\n",
       "    }\n",
       "</style>\n",
       "<table border=\"1\" class=\"dataframe\">\n",
       "  <thead>\n",
       "    <tr style=\"text-align: right;\">\n",
       "      <th></th>\n",
       "      <th>Intent</th>\n",
       "      <th>Name</th>\n",
       "      <th>PhoneNo</th>\n",
       "      <th>Email</th>\n",
       "      <th>Sex</th>\n",
       "      <th>Origin</th>\n",
       "      <th>Destiny</th>\n",
       "      <th>DepartureDate</th>\n",
       "      <th>pid</th>\n",
       "    </tr>\n",
       "  </thead>\n",
       "  <tbody>\n",
       "    <tr>\n",
       "      <th>0</th>\n",
       "      <td>book ticket</td>\n",
       "      <td>parth</td>\n",
       "      <td>84331.0</td>\n",
       "      <td>scvd</td>\n",
       "      <td>dvbf</td>\n",
       "      <td>mathura</td>\n",
       "      <td>delhi</td>\n",
       "      <td>20-12-2003</td>\n",
       "      <td>NaN</td>\n",
       "    </tr>\n",
       "    <tr>\n",
       "      <th>1</th>\n",
       "      <td>change flight</td>\n",
       "      <td>NaN</td>\n",
       "      <td>NaN</td>\n",
       "      <td>NaN</td>\n",
       "      <td>NaN</td>\n",
       "      <td>delhi</td>\n",
       "      <td>lucknow</td>\n",
       "      <td>21-12-2003</td>\n",
       "      <td>1.0</td>\n",
       "    </tr>\n",
       "  </tbody>\n",
       "</table>\n",
       "</div>"
      ],
      "text/plain": [
       "          Intent   Name  PhoneNo Email   Sex   Origin  Destiny DepartureDate  \\\n",
       "0    book ticket  parth  84331.0  scvd  dvbf  mathura    delhi    20-12-2003   \n",
       "1  change flight    NaN      NaN   NaN   NaN    delhi  lucknow    21-12-2003   \n",
       "\n",
       "   pid  \n",
       "0  NaN  \n",
       "1  1.0  "
      ]
     },
     "execution_count": 24,
     "metadata": {},
     "output_type": "execute_result"
    }
   ],
   "source": [
    "df.head()"
   ]
  },
  {
   "cell_type": "code",
   "execution_count": 33,
   "metadata": {},
   "outputs": [],
   "source": [
    "IntentID=\"\"\n",
    "Name=\"\"\t\n",
    "PhoneNo=\"\"\t\n",
    "Email=\"\"\t\n",
    "Sex=\"\"\n",
    "BookingDate=datetime.date.today().strftime(\"%d-%m-%Y\")\n",
    "DepartureDate=\"\"\n",
    "Origin=\"\"\n",
    "Destiny=\"\"\t\n",
    "pid=0"
   ]
  },
  {
   "cell_type": "code",
   "execution_count": 51,
   "metadata": {},
   "outputs": [],
   "source": [
    "def offline_chat(message):\n",
    "    ints=predict_class(message)\n",
    "    res=get_response(ints,intents)\n",
    "    s=ints[0]['intent']\n",
    "    print(f'So you want to {s} the flight having id {intent_id[s]}')\n",
    "    return s\n",
    "        "
   ]
  },
  {
   "cell_type": "code",
   "execution_count": 52,
   "metadata": {},
   "outputs": [
    {
     "data": {
      "text/html": [
       "<div>\n",
       "<style scoped>\n",
       "    .dataframe tbody tr th:only-of-type {\n",
       "        vertical-align: middle;\n",
       "    }\n",
       "\n",
       "    .dataframe tbody tr th {\n",
       "        vertical-align: top;\n",
       "    }\n",
       "\n",
       "    .dataframe thead th {\n",
       "        text-align: right;\n",
       "    }\n",
       "</style>\n",
       "<table border=\"1\" class=\"dataframe\">\n",
       "  <thead>\n",
       "    <tr style=\"text-align: right;\">\n",
       "      <th></th>\n",
       "      <th>Intent</th>\n",
       "      <th>Name</th>\n",
       "      <th>PhoneNo</th>\n",
       "      <th>Email</th>\n",
       "      <th>Sex</th>\n",
       "      <th>Origin</th>\n",
       "      <th>Destiny</th>\n",
       "      <th>DepartureDate</th>\n",
       "      <th>pid</th>\n",
       "    </tr>\n",
       "  </thead>\n",
       "  <tbody>\n",
       "    <tr>\n",
       "      <th>0</th>\n",
       "      <td>book ticket</td>\n",
       "      <td>parth</td>\n",
       "      <td>84331</td>\n",
       "      <td>scvd</td>\n",
       "      <td>dvbf</td>\n",
       "      <td>mathura</td>\n",
       "      <td>delhi</td>\n",
       "      <td>20-12-2003</td>\n",
       "      <td>NaN</td>\n",
       "    </tr>\n",
       "  </tbody>\n",
       "</table>\n",
       "</div>"
      ],
      "text/plain": [
       "        Intent   Name  PhoneNo Email   Sex   Origin Destiny DepartureDate  pid\n",
       "0  book ticket  parth    84331  scvd  dvbf  mathura   delhi    20-12-2003  NaN"
      ]
     },
     "execution_count": 52,
     "metadata": {},
     "output_type": "execute_result"
    }
   ],
   "source": [
    "df.head()"
   ]
  },
  {
   "cell_type": "code",
   "execution_count": 57,
   "metadata": {},
   "outputs": [
    {
     "name": "stdout",
     "output_type": "stream",
     "text": [
      "1/1 [==============================] - 0s 35ms/step\n",
      "So you want to book the flight having id 1\n",
      "Book a Flight\n"
     ]
    }
   ],
   "source": [
    "df=pd.read_csv(\"offline.csv\")\n",
    "intent=df['Intent'][0]\n",
    "# for intent in df['Intent']:\n",
    "int=offline_chat(intent)\n",
    "file = open(\"response.txt\", \"w\")\n",
    "if(int==\"book\"):\n",
    "    print(\"Book a Flight\")\n",
    "    IntentID=intent_id[int]\n",
    "    PhoneNo=df['PhoneNo'][0]\n",
    "    Email=df['Email'][0]\n",
    "    Sex=df['Sex'][0]\n",
    "    Name=df['Name'][0]\n",
    "    BookingDate=datetime.date.today().strftime(\"%d-%m-%Y\")\n",
    "    DepartureDate=df['DepartureDate']\n",
    "    Origin=df['Origin'][0]\n",
    "    Destiny=df['Destiny'][0]\n",
    "    pid=flight_booking_no\n",
    "    flight_booking_no+=1\n",
    "    file.write(f'IntentID={IntentID}\\n')\n",
    "    file.write(f'Name={Name}\\n')\n",
    "    file.write(f'PID={pid}\\n')\n",
    "    file.write(f'PhoneNo={PhoneNo}\\n')\n",
    "    file.write(f'Email={Email}\\n')\n",
    "    file.write(f'Sex={Sex}\\n')\n",
    "    file.write(f'Origin={Origin}\\n')\n",
    "    file.write(f'Destiny={Destiny}\\n')\n",
    "    file.write(f'BookingDate={BookingDate}\\n')\n",
    "    file.write(f'DepartureDate={DepartureDate}\\n')\n",
    "elif(int==\"change\"):\n",
    "    print(\"Change Flight Details\")\n",
    "    IntentID=intent_id[int]\n",
    "    BookingDate=datetime.date.today().strftime(\"%d-%m-%Y\")\n",
    "    DepartureDate=df['DepartureDate']\n",
    "    Origin=df['Origin'][0]\n",
    "    Destiny=df['Destiny'][0]\n",
    "    pid=flight_booking_no\n",
    "    flight_booking_no+=1\n",
    "    # file = open(\"response.txt\", \"w\")\n",
    "    file.write(f'IntentID={IntentID}\\n')\n",
    "    file.write(f'Name={Name}\\n')\n",
    "    file.write(f'PID={pid}\\n')\n",
    "    file.write(f'PhoneNo={PhoneNo}\\n')\n",
    "    file.write(f'Email={Email}\\n')\n",
    "    file.write(f'Sex={Sex}\\n')\n",
    "    file.write(f'Origin={Origin}\\n')\n",
    "    file.write(f'Destiny={Destiny}\\n')\n",
    "    file.write(f'BookingDate={BookingDate}\\n')\n",
    "    file.write(f'DepartureDate={DepartureDate}\\n')\n",
    "else:\n",
    "    pid=df['pid']\n",
    "    print('Flight cancelled')\n",
    "        "
   ]
  },
  {
   "cell_type": "code",
   "execution_count": 49,
   "metadata": {},
   "outputs": [
    {
     "data": {
      "text/plain": [
       "0    scvd\n",
       "Name: Email, dtype: object"
      ]
     },
     "execution_count": 49,
     "metadata": {},
     "output_type": "execute_result"
    }
   ],
   "source": [
    "df['Email']"
   ]
  },
  {
   "cell_type": "code",
   "execution_count": null,
   "metadata": {},
   "outputs": [],
   "source": []
  }
 ],
 "metadata": {
  "kernelspec": {
   "display_name": "Python 3",
   "language": "python",
   "name": "python3"
  },
  "language_info": {
   "codemirror_mode": {
    "name": "ipython",
    "version": 3
   },
   "file_extension": ".py",
   "mimetype": "text/x-python",
   "name": "python",
   "nbconvert_exporter": "python",
   "pygments_lexer": "ipython3",
   "version": "3.10.7"
  },
  "orig_nbformat": 4,
  "vscode": {
   "interpreter": {
    "hash": "e7370f93d1d0cde622a1f8e1c04877d8463912d04d973331ad4851f04de6915a"
   }
  }
 },
 "nbformat": 4,
 "nbformat_minor": 2
}
